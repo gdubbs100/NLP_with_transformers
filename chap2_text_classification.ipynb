{
 "cells": [
  {
   "cell_type": "code",
   "execution_count": 3,
   "metadata": {},
   "outputs": [],
   "source": [
    "from datasets import load_dataset\n",
    "import pandas as pd\n",
    "import numpy as np\n",
    "import matplotlib.pyplot as plt\n",
    "import torch"
   ]
  },
  {
   "cell_type": "code",
   "execution_count": 4,
   "metadata": {},
   "outputs": [
    {
     "name": "stdout",
     "output_type": "stream",
     "text": [
      "There are 10908 datasets currently available on the Hub\n",
      "The first 10 are ['acronym_identification', 'ade_corpus_v2', 'adversarial_qa', 'aeslc', 'afrikaans_ner_corpus', 'ag_news', 'ai2_arc', 'air_dialogue', 'ajgt_twitter_ar', 'allegro_reviews']\n"
     ]
    }
   ],
   "source": [
    "import huggingface_hub as hub\n",
    "all_datasets = [ds.id for ds in hub.list_datasets()]\n",
    "print(f'There are {len(all_datasets)} datasets currently available on the Hub')\n",
    "print(f\"The first 10 are {all_datasets[:10]}\")"
   ]
  },
  {
   "cell_type": "code",
   "execution_count": 5,
   "metadata": {},
   "outputs": [
    {
     "name": "stderr",
     "output_type": "stream",
     "text": [
      "Using custom data configuration default\n",
      "Reusing dataset emotion (C:\\Users\\61417\\.cache\\huggingface\\datasets\\emotion\\default\\0.0.0\\348f63ca8e27b3713b6c04d723efe6d824a56fb3d1449794716c0f0296072705)\n",
      "100%|██████████| 3/3 [00:00<00:00, 153.83it/s]\n"
     ]
    }
   ],
   "source": [
    "from datasets import load_dataset\n",
    "emotions = load_dataset(\"emotion\")"
   ]
  },
  {
   "cell_type": "code",
   "execution_count": 6,
   "metadata": {},
   "outputs": [],
   "source": [
    "train_ds = emotions['train']\n",
    "# train_ds.features\n"
   ]
  },
  {
   "cell_type": "code",
   "execution_count": 7,
   "metadata": {},
   "outputs": [
    {
     "data": {
      "text/html": [
       "<div>\n",
       "<style scoped>\n",
       "    .dataframe tbody tr th:only-of-type {\n",
       "        vertical-align: middle;\n",
       "    }\n",
       "\n",
       "    .dataframe tbody tr th {\n",
       "        vertical-align: top;\n",
       "    }\n",
       "\n",
       "    .dataframe thead th {\n",
       "        text-align: right;\n",
       "    }\n",
       "</style>\n",
       "<table border=\"1\" class=\"dataframe\">\n",
       "  <thead>\n",
       "    <tr style=\"text-align: right;\">\n",
       "      <th></th>\n",
       "      <th>text</th>\n",
       "      <th>label</th>\n",
       "    </tr>\n",
       "  </thead>\n",
       "  <tbody>\n",
       "    <tr>\n",
       "      <th>0</th>\n",
       "      <td>i didnt feel humiliated</td>\n",
       "      <td>0</td>\n",
       "    </tr>\n",
       "    <tr>\n",
       "      <th>1</th>\n",
       "      <td>i can go from feeling so hopeless to so damned...</td>\n",
       "      <td>0</td>\n",
       "    </tr>\n",
       "    <tr>\n",
       "      <th>2</th>\n",
       "      <td>im grabbing a minute to post i feel greedy wrong</td>\n",
       "      <td>3</td>\n",
       "    </tr>\n",
       "    <tr>\n",
       "      <th>3</th>\n",
       "      <td>i am ever feeling nostalgic about the fireplac...</td>\n",
       "      <td>2</td>\n",
       "    </tr>\n",
       "    <tr>\n",
       "      <th>4</th>\n",
       "      <td>i am feeling grouchy</td>\n",
       "      <td>3</td>\n",
       "    </tr>\n",
       "  </tbody>\n",
       "</table>\n",
       "</div>"
      ],
      "text/plain": [
       "                                                text  label\n",
       "0                            i didnt feel humiliated      0\n",
       "1  i can go from feeling so hopeless to so damned...      0\n",
       "2   im grabbing a minute to post i feel greedy wrong      3\n",
       "3  i am ever feeling nostalgic about the fireplac...      2\n",
       "4                               i am feeling grouchy      3"
      ]
     },
     "execution_count": 7,
     "metadata": {},
     "output_type": "execute_result"
    }
   ],
   "source": [
    "import pandas as pd\n",
    "\n",
    "emotions.set_format(type = 'pandas') # hugging face datasets uses a columnar datatype\n",
    "df = emotions[\"train\"][:]\n",
    "df.head()"
   ]
  },
  {
   "cell_type": "code",
   "execution_count": 8,
   "metadata": {},
   "outputs": [
    {
     "data": {
      "text/html": [
       "<div>\n",
       "<style scoped>\n",
       "    .dataframe tbody tr th:only-of-type {\n",
       "        vertical-align: middle;\n",
       "    }\n",
       "\n",
       "    .dataframe tbody tr th {\n",
       "        vertical-align: top;\n",
       "    }\n",
       "\n",
       "    .dataframe thead th {\n",
       "        text-align: right;\n",
       "    }\n",
       "</style>\n",
       "<table border=\"1\" class=\"dataframe\">\n",
       "  <thead>\n",
       "    <tr style=\"text-align: right;\">\n",
       "      <th></th>\n",
       "      <th>text</th>\n",
       "      <th>label</th>\n",
       "      <th>label_name</th>\n",
       "    </tr>\n",
       "  </thead>\n",
       "  <tbody>\n",
       "    <tr>\n",
       "      <th>0</th>\n",
       "      <td>i didnt feel humiliated</td>\n",
       "      <td>0</td>\n",
       "      <td>sadness</td>\n",
       "    </tr>\n",
       "    <tr>\n",
       "      <th>1</th>\n",
       "      <td>i can go from feeling so hopeless to so damned...</td>\n",
       "      <td>0</td>\n",
       "      <td>sadness</td>\n",
       "    </tr>\n",
       "    <tr>\n",
       "      <th>2</th>\n",
       "      <td>im grabbing a minute to post i feel greedy wrong</td>\n",
       "      <td>3</td>\n",
       "      <td>anger</td>\n",
       "    </tr>\n",
       "    <tr>\n",
       "      <th>3</th>\n",
       "      <td>i am ever feeling nostalgic about the fireplac...</td>\n",
       "      <td>2</td>\n",
       "      <td>love</td>\n",
       "    </tr>\n",
       "    <tr>\n",
       "      <th>4</th>\n",
       "      <td>i am feeling grouchy</td>\n",
       "      <td>3</td>\n",
       "      <td>anger</td>\n",
       "    </tr>\n",
       "  </tbody>\n",
       "</table>\n",
       "</div>"
      ],
      "text/plain": [
       "                                                text  label label_name\n",
       "0                            i didnt feel humiliated      0    sadness\n",
       "1  i can go from feeling so hopeless to so damned...      0    sadness\n",
       "2   im grabbing a minute to post i feel greedy wrong      3      anger\n",
       "3  i am ever feeling nostalgic about the fireplac...      2       love\n",
       "4                               i am feeling grouchy      3      anger"
      ]
     },
     "execution_count": 8,
     "metadata": {},
     "output_type": "execute_result"
    }
   ],
   "source": [
    "def label_int2str(row):\n",
    "    # features[\"label\"] returns a dict with label names\n",
    "    return emotions[\"train\"].features[\"label\"].int2str(row)\n",
    "\n",
    "df[\"label_name\"] = df[\"label\"].apply(label_int2str)\n",
    "df.head()"
   ]
  },
  {
   "cell_type": "code",
   "execution_count": 9,
   "metadata": {},
   "outputs": [
    {
     "data": {
      "image/png": "[encoded data removed]",
      "text/plain": [
       "<Figure size 432x288 with 1 Axes>"
      ]
     },
     "metadata": {
      "needs_background": "light"
     },
     "output_type": "display_data"
    }
   ],
   "source": [
    "import matplotlib.pyplot as plt\n",
    "df[\"label_name\"].value_counts(ascending = True).plot.barh()\n",
    "plt.title(\"Class Frequency\")\n",
    "plt.show()"
   ]
  },
  {
   "cell_type": "code",
   "execution_count": 10,
   "metadata": {},
   "outputs": [
    {
     "data": {
      "image/png": "[encoded data removed]",
      "text/plain": [
       "<Figure size 432x288 with 1 Axes>"
      ]
     },
     "metadata": {
      "needs_background": "light"
     },
     "output_type": "display_data"
    }
   ],
   "source": [
    "df[\"Words Per Tweet\"] = df[\"text\"].str.split().apply(len)\n",
    "df.boxplot(\"Words Per Tweet\", by = \"label_name\", grid = False,\n",
    "color = \"black\")\n",
    "plt.suptitle(\"\")\n",
    "plt.xlabel(\"\")\n",
    "plt.show()"
   ]
  },
  {
   "cell_type": "code",
   "execution_count": 11,
   "metadata": {},
   "outputs": [],
   "source": [
    "emotions.reset_format()"
   ]
  },
  {
   "cell_type": "code",
   "execution_count": 12,
   "metadata": {},
   "outputs": [],
   "source": [
    "# subword tokenization\n",
    "from transformers import AutoTokenizer\n",
    "from transformers import DistilBertTokenizer\n",
    "\n",
    "model_ckpt = \"distilbert-base-uncased\"\n",
    "tokenizer = AutoTokenizer.from_pretrained(model_ckpt)\n",
    "distilbert_tokenizer = DistilBertTokenizer.from_pretrained(model_ckpt)"
   ]
  },
  {
   "cell_type": "code",
   "execution_count": 13,
   "metadata": {},
   "outputs": [
    {
     "name": "stdout",
     "output_type": "stream",
     "text": [
      "{'input_ids': [101, 2000, 4939, 6026, 3793, 2003, 1037, 4563, 4708, 1997, 17953, 2361, 1012, 102], 'attention_mask': [1, 1, 1, 1, 1, 1, 1, 1, 1, 1, 1, 1, 1, 1]}\n",
      "['[CLS]', 'to', '##kin', '##izing', 'text', 'is', 'a', 'core', 'task', 'of', 'nl', '##p', '.', '[SEP]']\n",
      "[CLS] tokinizing text is a core task of nlp. [SEP]\n"
     ]
    }
   ],
   "source": [
    "text = \"Tokinizing text is a core task of NLP.\"\n",
    "\n",
    "encoded_text = tokenizer(text)\n",
    "print(encoded_text)\n",
    "\n",
    "tokens = tokenizer.convert_ids_to_tokens(encoded_text.input_ids)\n",
    "print(tokens)\n",
    "\n",
    "print(tokenizer.convert_tokens_to_string(tokens))\n",
    "\n",
    "## when using pre-trained models it is really important to make sure that you use the same tokenizer that the model was trained with"
   ]
  },
  {
   "cell_type": "code",
   "execution_count": 246,
   "metadata": {},
   "outputs": [
    {
     "name": "stderr",
     "output_type": "stream",
     "text": [
      "100%|██████████| 1/1 [00:01<00:00,  1.40s/ba]\n",
      "100%|██████████| 1/1 [00:00<00:00,  9.93ba/s]\n",
      "100%|██████████| 1/1 [00:00<00:00,  9.62ba/s]"
     ]
    },
    {
     "name": "stdout",
     "output_type": "stream",
     "text": [
      "['text', 'label', 'input_ids', 'attention_mask']\n"
     ]
    },
    {
     "name": "stderr",
     "output_type": "stream",
     "text": [
      "\n"
     ]
    }
   ],
   "source": [
    "# tokenizing the whole dataset\n",
    "\n",
    "def tokenize(batch):\n",
    "    return tokenizer(batch[\"text\"], padding = True, truncation = True)\n",
    "\n",
    "# print(tokenize(emotions[\"train\"][:2]))\n",
    "emotions_encoded = emotions.map(tokenize, batched = True, batch_size = None)\n",
    "print(emotions_encoded[\"train\"].column_names)"
   ]
  },
  {
   "cell_type": "code",
   "execution_count": 15,
   "metadata": {},
   "outputs": [
    {
     "data": {
      "text/plain": [
       "DatasetDict({\n",
       "    train: Dataset({\n",
       "        features: ['text', 'label'],\n",
       "        num_rows: 16000\n",
       "    })\n",
       "    validation: Dataset({\n",
       "        features: ['text', 'label'],\n",
       "        num_rows: 2000\n",
       "    })\n",
       "    test: Dataset({\n",
       "        features: ['text', 'label'],\n",
       "        num_rows: 2000\n",
       "    })\n",
       "})"
      ]
     },
     "execution_count": 15,
     "metadata": {},
     "output_type": "execute_result"
    }
   ],
   "source": [
    "emotions"
   ]
  },
  {
   "cell_type": "code",
   "execution_count": 16,
   "metadata": {},
   "outputs": [
    {
     "name": "stderr",
     "output_type": "stream",
     "text": [
      "Some weights of the model checkpoint at distilbert-base-uncased were not used when initializing DistilBertModel: ['vocab_projector.bias', 'vocab_transform.bias', 'vocab_transform.weight', 'vocab_layer_norm.weight', 'vocab_layer_norm.bias', 'vocab_projector.weight']\n",
      "- This IS expected if you are initializing DistilBertModel from the checkpoint of a model trained on another task or with another architecture (e.g. initializing a BertForSequenceClassification model from a BertForPreTraining model).\n",
      "- This IS NOT expected if you are initializing DistilBertModel from the checkpoint of a model that you expect to be exactly identical (initializing a BertForSequenceClassification model from a BertForSequenceClassification model).\n"
     ]
    }
   ],
   "source": [
    "from transformers import AutoModel\n",
    "import torch\n",
    "\n",
    "# same as before\n",
    "model_ckpt = \"distilbert-base-uncased\"\n",
    "device = torch.device(\"cuda\" if torch.cuda.is_available() else \"cpu\")\n",
    "model = AutoModel.from_pretrained(model_ckpt).to(device)\n",
    "\n"
   ]
  },
  {
   "cell_type": "code",
   "execution_count": 17,
   "metadata": {},
   "outputs": [
    {
     "name": "stdout",
     "output_type": "stream",
     "text": [
      "inputs tensor shape: torch.Size([1, 6])\n",
      "['[CLS]', 'this', 'is', 'a', 'test', '[SEP]']\n"
     ]
    }
   ],
   "source": [
    "text = \"this is a test\"\n",
    "inputs = tokenizer(text, return_tensors = \"pt\") # pt for pytorch\n",
    "print(f\"inputs tensor shape: {inputs['input_ids'].size()}\") #[batch_size, n_tokens]\n",
    "print(tokenizer.convert_ids_to_tokens(inputs.input_ids[0]))\n"
   ]
  },
  {
   "cell_type": "code",
   "execution_count": 18,
   "metadata": {},
   "outputs": [
    {
     "data": {
      "text/plain": [
       "[torch.Tensor, torch.Tensor]"
      ]
     },
     "execution_count": 18,
     "metadata": {},
     "output_type": "execute_result"
    }
   ],
   "source": [
    "[type(v) for k,v in inputs.items()]"
   ]
  },
  {
   "cell_type": "code",
   "execution_count": 53,
   "metadata": {},
   "outputs": [
    {
     "name": "stdout",
     "output_type": "stream",
     "text": [
      "BaseModelOutput(last_hidden_state=tensor([[[-0.1565, -0.1862,  0.0528,  ..., -0.1188,  0.0662,  0.5470],\n",
      "         [-0.3575, -0.6484, -0.0618,  ..., -0.3040,  0.3508,  0.5221],\n",
      "         [-0.2772, -0.4459,  0.1818,  ..., -0.0948, -0.0076,  0.9958],\n",
      "         [-0.2841, -0.3917,  0.3753,  ..., -0.2151, -0.1173,  1.0526],\n",
      "         [ 0.2661, -0.5094, -0.3180,  ..., -0.4203,  0.0144, -0.2149],\n",
      "         [ 0.9441,  0.0112, -0.4714,  ...,  0.1439, -0.7288, -0.1619]]]), hidden_states=None, attentions=None)\n"
     ]
    }
   ],
   "source": [
    "inputs = {k:v.to(device) for k, v in inputs.items()}\n",
    "with torch.no_grad():\n",
    "    outputs = model(**inputs)\n",
    "print(outputs)"
   ]
  },
  {
   "cell_type": "code",
   "execution_count": 56,
   "metadata": {},
   "outputs": [
    {
     "data": {
      "text/plain": [
       "torch.Size([1, 768])"
      ]
     },
     "execution_count": 56,
     "metadata": {},
     "output_type": "execute_result"
    }
   ],
   "source": [
    "# in practice, we often use the hidden state of the last input token in the sequence (the [CLS] token at index 0)\n",
    "outputs.last_hidden_state[:,0].size()"
   ]
  },
  {
   "cell_type": "code",
   "execution_count": 57,
   "metadata": {},
   "outputs": [
    {
     "name": "stderr",
     "output_type": "stream",
     "text": [
      "100%|██████████| 16/16 [20:41<00:00, 77.58s/ba]\n",
      "100%|██████████| 2/2 [01:40<00:00, 50.16s/ba]\n",
      "100%|██████████| 2/2 [01:36<00:00, 48.45s/ba]\n"
     ]
    }
   ],
   "source": [
    "def extract_hidden_states(batch):\n",
    "    inputs = {k:v.to(device) for k, v in batch.items()\n",
    "                if k in tokenizer.model_input_names}\n",
    "    with torch.no_grad():\n",
    "        last_hidden_state = model(**inputs).last_hidden_state\n",
    "    # return vector for [CLS] token\n",
    "    return {\"hidden_state\": last_hidden_state[:,0].cpu().numpy()}\n",
    "\n",
    "emotions_encoded.set_format(\"torch\",\n",
    "                            columns = [\"input_ids\", \"attention_mask\", \"label\"])\n",
    "emotions_hidden = emotions_encoded.map(extract_hidden_states, batched = True)"
   ]
  },
  {
   "cell_type": "code",
   "execution_count": 2,
   "metadata": {},
   "outputs": [],
   "source": [
    "import datasets\n",
    "# emotions_hidden.save_to_disk(\"test.hf\")\n",
    "emotions_hidden = datasets.load_from_disk('./test.hf')"
   ]
  },
  {
   "cell_type": "code",
   "execution_count": 3,
   "metadata": {},
   "outputs": [
    {
     "name": "stdout",
     "output_type": "stream",
     "text": [
      "(16000, 768) (2000, 768)\n"
     ]
    }
   ],
   "source": [
    "import numpy as np\n",
    "\n",
    "X_train = np.array(emotions_hidden[\"train\"][\"hidden_state\"])\n",
    "X_valid = np.array(emotions_hidden[\"validation\"][\"hidden_state\"])\n",
    "y_train = np.array(emotions_hidden[\"train\"][\"label\"])\n",
    "y_valid = np.array(emotions_hidden[\"validation\"][\"label\"])\n",
    "print(X_train.shape, X_valid.shape)"
   ]
  },
  {
   "cell_type": "code",
   "execution_count": 7,
   "metadata": {},
   "outputs": [
    {
     "data": {
      "text/html": [
       "<div>\n",
       "<style scoped>\n",
       "    .dataframe tbody tr th:only-of-type {\n",
       "        vertical-align: middle;\n",
       "    }\n",
       "\n",
       "    .dataframe tbody tr th {\n",
       "        vertical-align: top;\n",
       "    }\n",
       "\n",
       "    .dataframe thead th {\n",
       "        text-align: right;\n",
       "    }\n",
       "</style>\n",
       "<table border=\"1\" class=\"dataframe\">\n",
       "  <thead>\n",
       "    <tr style=\"text-align: right;\">\n",
       "      <th></th>\n",
       "      <th>X</th>\n",
       "      <th>Y</th>\n",
       "      <th>label</th>\n",
       "    </tr>\n",
       "  </thead>\n",
       "  <tbody>\n",
       "    <tr>\n",
       "      <th>0</th>\n",
       "      <td>4.476506</td>\n",
       "      <td>6.354021</td>\n",
       "      <td>0</td>\n",
       "    </tr>\n",
       "    <tr>\n",
       "      <th>1</th>\n",
       "      <td>-2.777670</td>\n",
       "      <td>5.481840</td>\n",
       "      <td>0</td>\n",
       "    </tr>\n",
       "    <tr>\n",
       "      <th>2</th>\n",
       "      <td>5.310009</td>\n",
       "      <td>2.831295</td>\n",
       "      <td>3</td>\n",
       "    </tr>\n",
       "    <tr>\n",
       "      <th>3</th>\n",
       "      <td>-2.076781</td>\n",
       "      <td>3.289207</td>\n",
       "      <td>2</td>\n",
       "    </tr>\n",
       "    <tr>\n",
       "      <th>4</th>\n",
       "      <td>-3.141330</td>\n",
       "      <td>3.396249</td>\n",
       "      <td>3</td>\n",
       "    </tr>\n",
       "  </tbody>\n",
       "</table>\n",
       "</div>"
      ],
      "text/plain": [
       "          X         Y  label\n",
       "0  4.476506  6.354021      0\n",
       "1 -2.777670  5.481840      0\n",
       "2  5.310009  2.831295      3\n",
       "3 -2.076781  3.289207      2\n",
       "4 -3.141330  3.396249      3"
      ]
     },
     "execution_count": 7,
     "metadata": {},
     "output_type": "execute_result"
    }
   ],
   "source": [
    "# visualising the training set\n",
    "from umap import UMAP\n",
    "from sklearn.preprocessing import MinMaxScaler\n",
    "\n",
    "X_scaled = MinMaxScaler().fit_transform(X_train)\n",
    "\n",
    "# initialized and fit UMAP\n",
    "mapper = UMAP(n_components=2, metric=\"cosine\").fit(X_scaled)\n",
    "#Create a df of 2d embeddings\n",
    "df_emb = pd.DataFrame(mapper.embedding_, columns = ['X', 'Y'])\n",
    "df_emb['label'] = y_train\n",
    "df_emb.head()\n"
   ]
  },
  {
   "cell_type": "code",
   "execution_count": 11,
   "metadata": {},
   "outputs": [
    {
     "data": {
      "image/png": "[encoded data removed]",
      "text/plain": [
       "<Figure size 504x360 with 6 Axes>"
      ]
     },
     "metadata": {},
     "output_type": "display_data"
    }
   ],
   "source": [
    "fig, axes = plt.subplots(2, 3, figsize = (7, 5))\n",
    "axes = axes.flatten()\n",
    "\n",
    "cmaps = ['Greys', 'Blues', 'Oranges', 'Reds', 'Purples', 'Greens']\n",
    "labels = emotions['train'].features[\"label\"].names\n",
    "\n",
    "for i, (label, cmap) in enumerate(zip(labels, cmaps)):\n",
    "    df_emb_sub = df_emb.query(f\"label == {i}\")\n",
    "    axes[i].hexbin(df_emb_sub[\"X\"], df_emb_sub[\"Y\"], cmap = cmap, gridsize = 20, linewidths = (0,))\n",
    "    axes[i].set_title(label)\n",
    "    axes[i].set_xticks([])\n",
    "    axes[i].set_yticks([])\n",
    "\n",
    "plt.tight_layout()\n",
    "plt.show()"
   ]
  },
  {
   "cell_type": "code",
   "execution_count": 12,
   "metadata": {},
   "outputs": [
    {
     "data": {
      "text/plain": [
       "0.633"
      ]
     },
     "execution_count": 12,
     "metadata": {},
     "output_type": "execute_result"
    }
   ],
   "source": [
    "from sklearn.linear_model import LogisticRegression\n",
    "\n",
    "\n",
    "LR = LogisticRegression(max_iter = 3000)\n",
    "LR.fit(X_train, y_train)\n",
    "LR.score(X_valid, y_valid)"
   ]
  },
  {
   "cell_type": "code",
   "execution_count": 13,
   "metadata": {},
   "outputs": [
    {
     "data": {
      "text/plain": [
       "0.352"
      ]
     },
     "execution_count": 13,
     "metadata": {},
     "output_type": "execute_result"
    }
   ],
   "source": [
    "from sklearn.dummy import DummyClassifier\n",
    "\n",
    "Dy = DummyClassifier(strategy = 'most_frequent')\n",
    "Dy.fit(X_train, y_train)\n",
    "Dy.score(X_valid, y_valid)"
   ]
  },
  {
   "cell_type": "code",
   "execution_count": 15,
   "metadata": {},
   "outputs": [
    {
     "data": {
      "image/png": "[encoded data removed]",
      "text/plain": [
       "<Figure size 432x432 with 1 Axes>"
      ]
     },
     "metadata": {
      "needs_background": "light"
     },
     "output_type": "display_data"
    }
   ],
   "source": [
    "from sklearn.metrics import ConfusionMatrixDisplay, confusion_matrix\n",
    "\n",
    "def plot_confusion_matrix(y_preds, y_true, labels):\n",
    "    cm = confusion_matrix(y_true, y_preds, normalize = \"true\")\n",
    "    fig, ax = plt.subplots(figsize = (6, 6))\n",
    "    disp = ConfusionMatrixDisplay(confusion_matrix = cm, display_labels = labels)\n",
    "    disp.plot(cmap = 'Blues', values_format = \".2f\", ax = ax, colorbar = False)\n",
    "    plt.title(\"Normalised confusion matrix\")\n",
    "    plt.show()\n",
    "\n",
    "y_preds = LR.predict(X_valid)\n",
    "plot_confusion_matrix(y_preds, y_valid, labels)"
   ]
  },
  {
   "cell_type": "code",
   "execution_count": 159,
   "metadata": {},
   "outputs": [
    {
     "data": {
      "text/plain": [
       "(6, 768)"
      ]
     },
     "execution_count": 159,
     "metadata": {},
     "output_type": "execute_result"
    }
   ],
   "source": [
    "LR.coef_.shape"
   ]
  },
  {
   "cell_type": "code",
   "execution_count": 232,
   "metadata": {},
   "outputs": [],
   "source": [
    "import torch\n",
    "from torch import nn\n",
    "\n",
    "class NNLogisticRegression(nn.Module):\n",
    "    def __init__(self, input_dim, output_dim):\n",
    "        super(NNLogisticRegression, self).__init__()\n",
    "        self.linear = torch.nn.Linear(input_dim, output_dim*10)\n",
    "        self.linear2 = torch.nn.Linear(output_dim * 10, output_dim)\n",
    "\n",
    "    def forward(self, x):\n",
    "        x = F.relu(self.linear(x))\n",
    "        x = F.relu(self.linear2(x))\n",
    "        return x\n",
    "\n",
    "\n",
    "def Train(net, epochs, X_train, y_train, criterion, optimizer):\n",
    "\n",
    "    iter = 0\n",
    "    running_loss = 0\n",
    "    for epoch in range(epochs):\n",
    "        \n",
    "        optimizer.zero_grad()\n",
    "        outputs = net(X_train)\n",
    "        loss = criterion(torch.squeeze(outputs), y_train.long())\n",
    "\n",
    "        loss.backward()\n",
    "        optimizer.step()\n",
    "        iter += 1\n",
    "        running_loss += loss.item()\n",
    "        if iter % 100:\n",
    "            print(f'[{epoch + 1}, {iter:5d}] loss: {running_loss / 100:.3f}')\n",
    "            running_loss = 0.0 # why reset this? - its an average loss for last 2000 mini batches\n",
    "\n",
    "# def Train(net, epochs, trainloader, criterion, optimizer):\n",
    "#     # train the network\n",
    "#     for epoch in range(epochs):\n",
    "\n",
    "#         running_loss = 0.0\n",
    "#         for i, data in enumerate(trainloader, 0):\n",
    "#             # get the inputs; data is a list of [inputs, labels]\n",
    "#             inputs, labels = data\n",
    "\n",
    "#             # zero the parameter gradients (still not sure what this is really?)\n",
    "#             optimizer.zero_grad()\n",
    "\n",
    "#             # forward + backward + optimize\n",
    "#             outputs = net(inputs)\n",
    "#             loss = criterion(outputs, labels.long())\n",
    "#             loss.backward()\n",
    "#             optimizer.step()\n",
    "\n",
    "#             # print stats\n",
    "#             running_loss += loss.item()\n",
    "#             if i % 2000 == 1999: # print every 2000 minibatches\n",
    "#                 print(f'[{epoch + 1}, {i + 1:5d}] loss: {running_loss / 100:.3f}')\n",
    "#                 running_loss = 0.0 # why reset this? - its an average loss for last 2000 mini batches\n",
    "\n",
    "\n",
    "    print('Finished Training')\n",
    "\n",
    "\n",
    "def Eval(net, testloader):\n",
    "    correct = 0\n",
    "    total = 0\n",
    "    with torch.no_grad():\n",
    "        for data in testloader:\n",
    "            images, labels = data\n",
    "            # calculate outputs by running images through the network\n",
    "            outputs = net(images)\n",
    "            _, predicted = torch.max(outputs.data, 1)\n",
    "            total += labels.size(0)\n",
    "            correct += (predicted == labels).sum().item()\n",
    "\n",
    "    print(f'Accuracy of the network: {100 * correct // total} %')\n",
    "\n",
    "\n"
   ]
  },
  {
   "cell_type": "code",
   "execution_count": 233,
   "metadata": {},
   "outputs": [],
   "source": [
    "import torch.optim as optim\n",
    "net = NNLogisticRegression(768, 6)\n",
    "# cross-entropy loss, use SGD with momentum\n",
    "criterion = nn.CrossEntropyLoss()\n",
    "optimizer = optim.SGD(net.parameters(), lr = 0.01, momentum = 0.9)"
   ]
  },
  {
   "cell_type": "code",
   "execution_count": 234,
   "metadata": {},
   "outputs": [],
   "source": [
    "from torch.utils.data import DataLoader\n",
    "from torch.utils.data import TensorDataset\n",
    "\n",
    "bs = 200\n",
    "\n",
    "train_ds = TensorDataset(torch.Tensor(X_train), torch.Tensor(y_train))\n",
    "train_dl = DataLoader(train_ds, batch_size = bs)\n",
    "\n",
    "valid_ds = TensorDataset(torch.Tensor(X_valid), torch.Tensor(y_valid))\n",
    "valid_dl = DataLoader(valid_ds, batch_size = bs * 2)\n"
   ]
  },
  {
   "cell_type": "code",
   "execution_count": 239,
   "metadata": {},
   "outputs": [
    {
     "name": "stdout",
     "output_type": "stream",
     "text": [
      "[1,     1] loss: 0.013\n",
      "[2,     2] loss: 0.013\n",
      "[3,     3] loss: 0.013\n",
      "[4,     4] loss: 0.013\n",
      "[5,     5] loss: 0.013\n",
      "[6,     6] loss: 0.013\n",
      "[7,     7] loss: 0.013\n",
      "[8,     8] loss: 0.013\n",
      "[9,     9] loss: 0.013\n",
      "[10,    10] loss: 0.013\n",
      "[11,    11] loss: 0.013\n",
      "[12,    12] loss: 0.013\n",
      "[13,    13] loss: 0.013\n",
      "[14,    14] loss: 0.013\n",
      "[15,    15] loss: 0.013\n",
      "[16,    16] loss: 0.013\n",
      "[17,    17] loss: 0.013\n",
      "[18,    18] loss: 0.013\n",
      "[19,    19] loss: 0.013\n",
      "[20,    20] loss: 0.013\n",
      "[21,    21] loss: 0.013\n",
      "[22,    22] loss: 0.013\n",
      "[23,    23] loss: 0.013\n",
      "[24,    24] loss: 0.013\n",
      "[25,    25] loss: 0.013\n",
      "[26,    26] loss: 0.013\n",
      "[27,    27] loss: 0.013\n",
      "[28,    28] loss: 0.013\n",
      "[29,    29] loss: 0.013\n",
      "[30,    30] loss: 0.013\n",
      "[31,    31] loss: 0.013\n",
      "[32,    32] loss: 0.013\n",
      "[33,    33] loss: 0.013\n",
      "[34,    34] loss: 0.013\n",
      "[35,    35] loss: 0.013\n",
      "[36,    36] loss: 0.013\n",
      "[37,    37] loss: 0.013\n",
      "[38,    38] loss: 0.013\n",
      "[39,    39] loss: 0.013\n",
      "[40,    40] loss: 0.013\n",
      "[41,    41] loss: 0.013\n",
      "[42,    42] loss: 0.013\n",
      "[43,    43] loss: 0.013\n",
      "[44,    44] loss: 0.013\n",
      "[45,    45] loss: 0.013\n",
      "[46,    46] loss: 0.013\n",
      "[47,    47] loss: 0.013\n",
      "[48,    48] loss: 0.013\n",
      "[49,    49] loss: 0.013\n",
      "[50,    50] loss: 0.013\n",
      "[51,    51] loss: 0.013\n",
      "[52,    52] loss: 0.013\n",
      "[53,    53] loss: 0.013\n",
      "[54,    54] loss: 0.013\n",
      "[55,    55] loss: 0.013\n",
      "[56,    56] loss: 0.013\n",
      "[57,    57] loss: 0.013\n",
      "[58,    58] loss: 0.013\n",
      "[59,    59] loss: 0.013\n",
      "[60,    60] loss: 0.013\n",
      "[61,    61] loss: 0.013\n",
      "[62,    62] loss: 0.013\n",
      "[63,    63] loss: 0.013\n",
      "[64,    64] loss: 0.013\n",
      "[65,    65] loss: 0.013\n",
      "[66,    66] loss: 0.013\n",
      "[67,    67] loss: 0.013\n",
      "[68,    68] loss: 0.013\n",
      "[69,    69] loss: 0.013\n",
      "[70,    70] loss: 0.013\n",
      "[71,    71] loss: 0.013\n",
      "[72,    72] loss: 0.013\n",
      "[73,    73] loss: 0.013\n",
      "[74,    74] loss: 0.013\n",
      "[75,    75] loss: 0.013\n",
      "[76,    76] loss: 0.013\n",
      "[77,    77] loss: 0.013\n",
      "[78,    78] loss: 0.013\n",
      "[79,    79] loss: 0.013\n",
      "[80,    80] loss: 0.013\n",
      "[81,    81] loss: 0.013\n",
      "[82,    82] loss: 0.013\n",
      "[83,    83] loss: 0.013\n",
      "[84,    84] loss: 0.013\n",
      "[85,    85] loss: 0.013\n",
      "[86,    86] loss: 0.013\n",
      "[87,    87] loss: 0.013\n",
      "[88,    88] loss: 0.013\n",
      "[89,    89] loss: 0.013\n",
      "[90,    90] loss: 0.013\n",
      "[91,    91] loss: 0.013\n",
      "[92,    92] loss: 0.013\n",
      "[93,    93] loss: 0.013\n",
      "[94,    94] loss: 0.013\n",
      "[95,    95] loss: 0.013\n",
      "[96,    96] loss: 0.013\n",
      "[97,    97] loss: 0.013\n",
      "[98,    98] loss: 0.013\n",
      "[99,    99] loss: 0.013\n",
      "[101,   101] loss: 0.026\n",
      "[102,   102] loss: 0.013\n",
      "[103,   103] loss: 0.013\n",
      "[104,   104] loss: 0.013\n",
      "[105,   105] loss: 0.013\n",
      "[106,   106] loss: 0.013\n",
      "[107,   107] loss: 0.013\n",
      "[108,   108] loss: 0.013\n",
      "[109,   109] loss: 0.013\n",
      "[110,   110] loss: 0.013\n",
      "[111,   111] loss: 0.013\n",
      "[112,   112] loss: 0.013\n",
      "[113,   113] loss: 0.013\n",
      "[114,   114] loss: 0.013\n",
      "[115,   115] loss: 0.013\n",
      "[116,   116] loss: 0.013\n",
      "[117,   117] loss: 0.013\n",
      "[118,   118] loss: 0.013\n",
      "[119,   119] loss: 0.013\n",
      "[120,   120] loss: 0.013\n",
      "[121,   121] loss: 0.013\n",
      "[122,   122] loss: 0.013\n",
      "[123,   123] loss: 0.013\n",
      "[124,   124] loss: 0.013\n",
      "[125,   125] loss: 0.013\n",
      "[126,   126] loss: 0.013\n",
      "[127,   127] loss: 0.013\n",
      "[128,   128] loss: 0.013\n",
      "[129,   129] loss: 0.013\n",
      "[130,   130] loss: 0.013\n",
      "[131,   131] loss: 0.013\n",
      "[132,   132] loss: 0.013\n",
      "[133,   133] loss: 0.013\n",
      "[134,   134] loss: 0.013\n",
      "[135,   135] loss: 0.013\n",
      "[136,   136] loss: 0.013\n",
      "[137,   137] loss: 0.013\n",
      "[138,   138] loss: 0.013\n",
      "[139,   139] loss: 0.013\n",
      "[140,   140] loss: 0.013\n",
      "[141,   141] loss: 0.013\n",
      "[142,   142] loss: 0.013\n",
      "[143,   143] loss: 0.013\n",
      "[144,   144] loss: 0.013\n",
      "[145,   145] loss: 0.013\n",
      "[146,   146] loss: 0.013\n",
      "[147,   147] loss: 0.013\n",
      "[148,   148] loss: 0.013\n",
      "[149,   149] loss: 0.013\n",
      "[150,   150] loss: 0.013\n",
      "[151,   151] loss: 0.013\n",
      "[152,   152] loss: 0.013\n",
      "[153,   153] loss: 0.013\n",
      "[154,   154] loss: 0.013\n",
      "[155,   155] loss: 0.013\n",
      "[156,   156] loss: 0.013\n",
      "[157,   157] loss: 0.013\n",
      "[158,   158] loss: 0.013\n",
      "[159,   159] loss: 0.013\n",
      "[160,   160] loss: 0.013\n",
      "[161,   161] loss: 0.013\n",
      "[162,   162] loss: 0.013\n",
      "[163,   163] loss: 0.013\n",
      "[164,   164] loss: 0.013\n",
      "[165,   165] loss: 0.013\n",
      "[166,   166] loss: 0.013\n",
      "[167,   167] loss: 0.013\n",
      "[168,   168] loss: 0.013\n",
      "[169,   169] loss: 0.013\n",
      "[170,   170] loss: 0.013\n",
      "[171,   171] loss: 0.013\n",
      "[172,   172] loss: 0.013\n",
      "[173,   173] loss: 0.013\n",
      "[174,   174] loss: 0.013\n",
      "[175,   175] loss: 0.013\n",
      "[176,   176] loss: 0.013\n",
      "[177,   177] loss: 0.013\n",
      "[178,   178] loss: 0.013\n",
      "[179,   179] loss: 0.013\n",
      "[180,   180] loss: 0.013\n",
      "[181,   181] loss: 0.013\n",
      "[182,   182] loss: 0.013\n",
      "[183,   183] loss: 0.013\n",
      "[184,   184] loss: 0.013\n",
      "[185,   185] loss: 0.013\n",
      "[186,   186] loss: 0.013\n",
      "[187,   187] loss: 0.013\n",
      "[188,   188] loss: 0.013\n",
      "[189,   189] loss: 0.013\n",
      "[190,   190] loss: 0.013\n",
      "[191,   191] loss: 0.013\n",
      "[192,   192] loss: 0.013\n",
      "[193,   193] loss: 0.013\n",
      "[194,   194] loss: 0.013\n",
      "[195,   195] loss: 0.013\n",
      "[196,   196] loss: 0.013\n",
      "[197,   197] loss: 0.013\n",
      "[198,   198] loss: 0.013\n",
      "[199,   199] loss: 0.013\n",
      "[201,   201] loss: 0.026\n",
      "[202,   202] loss: 0.013\n",
      "[203,   203] loss: 0.013\n",
      "[204,   204] loss: 0.013\n",
      "[205,   205] loss: 0.013\n",
      "[206,   206] loss: 0.013\n",
      "[207,   207] loss: 0.013\n",
      "[208,   208] loss: 0.013\n",
      "[209,   209] loss: 0.013\n",
      "[210,   210] loss: 0.013\n",
      "[211,   211] loss: 0.013\n",
      "[212,   212] loss: 0.013\n",
      "[213,   213] loss: 0.013\n",
      "[214,   214] loss: 0.013\n",
      "[215,   215] loss: 0.013\n",
      "[216,   216] loss: 0.013\n",
      "[217,   217] loss: 0.013\n",
      "[218,   218] loss: 0.013\n",
      "[219,   219] loss: 0.013\n",
      "[220,   220] loss: 0.013\n",
      "[221,   221] loss: 0.013\n",
      "[222,   222] loss: 0.013\n",
      "[223,   223] loss: 0.013\n",
      "[224,   224] loss: 0.013\n",
      "[225,   225] loss: 0.013\n",
      "[226,   226] loss: 0.013\n",
      "[227,   227] loss: 0.013\n",
      "[228,   228] loss: 0.013\n",
      "[229,   229] loss: 0.013\n",
      "[230,   230] loss: 0.013\n",
      "[231,   231] loss: 0.013\n",
      "[232,   232] loss: 0.013\n",
      "[233,   233] loss: 0.013\n",
      "[234,   234] loss: 0.013\n",
      "[235,   235] loss: 0.013\n",
      "[236,   236] loss: 0.013\n",
      "[237,   237] loss: 0.013\n",
      "[238,   238] loss: 0.013\n",
      "[239,   239] loss: 0.013\n",
      "[240,   240] loss: 0.013\n",
      "[241,   241] loss: 0.013\n",
      "[242,   242] loss: 0.013\n",
      "[243,   243] loss: 0.013\n",
      "[244,   244] loss: 0.013\n",
      "[245,   245] loss: 0.013\n",
      "[246,   246] loss: 0.013\n",
      "[247,   247] loss: 0.013\n",
      "[248,   248] loss: 0.013\n",
      "[249,   249] loss: 0.013\n",
      "[250,   250] loss: 0.013\n",
      "[251,   251] loss: 0.013\n",
      "[252,   252] loss: 0.013\n",
      "[253,   253] loss: 0.013\n",
      "[254,   254] loss: 0.013\n",
      "[255,   255] loss: 0.013\n",
      "[256,   256] loss: 0.013\n",
      "[257,   257] loss: 0.013\n",
      "[258,   258] loss: 0.013\n",
      "[259,   259] loss: 0.013\n",
      "[260,   260] loss: 0.013\n",
      "[261,   261] loss: 0.013\n",
      "[262,   262] loss: 0.013\n",
      "[263,   263] loss: 0.013\n",
      "[264,   264] loss: 0.013\n",
      "[265,   265] loss: 0.013\n",
      "[266,   266] loss: 0.013\n",
      "[267,   267] loss: 0.013\n",
      "[268,   268] loss: 0.013\n",
      "[269,   269] loss: 0.013\n",
      "[270,   270] loss: 0.013\n",
      "[271,   271] loss: 0.013\n",
      "[272,   272] loss: 0.013\n",
      "[273,   273] loss: 0.013\n",
      "[274,   274] loss: 0.013\n",
      "[275,   275] loss: 0.013\n",
      "[276,   276] loss: 0.013\n",
      "[277,   277] loss: 0.013\n",
      "[278,   278] loss: 0.013\n",
      "[279,   279] loss: 0.013\n",
      "[280,   280] loss: 0.013\n",
      "[281,   281] loss: 0.013\n",
      "[282,   282] loss: 0.013\n",
      "[283,   283] loss: 0.013\n",
      "[284,   284] loss: 0.013\n",
      "[285,   285] loss: 0.013\n",
      "[286,   286] loss: 0.013\n",
      "[287,   287] loss: 0.013\n",
      "[288,   288] loss: 0.013\n",
      "[289,   289] loss: 0.013\n",
      "[290,   290] loss: 0.013\n",
      "[291,   291] loss: 0.013\n",
      "[292,   292] loss: 0.013\n",
      "[293,   293] loss: 0.013\n",
      "[294,   294] loss: 0.013\n",
      "[295,   295] loss: 0.013\n",
      "[296,   296] loss: 0.013\n",
      "[297,   297] loss: 0.013\n",
      "[298,   298] loss: 0.013\n",
      "[299,   299] loss: 0.013\n",
      "[301,   301] loss: 0.025\n",
      "[302,   302] loss: 0.013\n",
      "[303,   303] loss: 0.013\n",
      "[304,   304] loss: 0.013\n",
      "[305,   305] loss: 0.013\n",
      "[306,   306] loss: 0.013\n",
      "[307,   307] loss: 0.013\n",
      "[308,   308] loss: 0.013\n",
      "[309,   309] loss: 0.013\n",
      "[310,   310] loss: 0.013\n",
      "[311,   311] loss: 0.013\n",
      "[312,   312] loss: 0.013\n",
      "[313,   313] loss: 0.013\n",
      "[314,   314] loss: 0.013\n",
      "[315,   315] loss: 0.013\n",
      "[316,   316] loss: 0.013\n",
      "[317,   317] loss: 0.013\n",
      "[318,   318] loss: 0.013\n",
      "[319,   319] loss: 0.013\n",
      "[320,   320] loss: 0.013\n",
      "[321,   321] loss: 0.012\n",
      "[322,   322] loss: 0.012\n",
      "[323,   323] loss: 0.012\n",
      "[324,   324] loss: 0.012\n",
      "[325,   325] loss: 0.012\n",
      "[326,   326] loss: 0.012\n",
      "[327,   327] loss: 0.012\n",
      "[328,   328] loss: 0.012\n",
      "[329,   329] loss: 0.012\n",
      "[330,   330] loss: 0.012\n",
      "[331,   331] loss: 0.012\n",
      "[332,   332] loss: 0.012\n",
      "[333,   333] loss: 0.012\n",
      "[334,   334] loss: 0.012\n",
      "[335,   335] loss: 0.012\n",
      "[336,   336] loss: 0.012\n",
      "[337,   337] loss: 0.012\n",
      "[338,   338] loss: 0.012\n",
      "[339,   339] loss: 0.012\n",
      "[340,   340] loss: 0.012\n",
      "[341,   341] loss: 0.012\n",
      "[342,   342] loss: 0.012\n",
      "[343,   343] loss: 0.012\n",
      "[344,   344] loss: 0.012\n",
      "[345,   345] loss: 0.012\n",
      "[346,   346] loss: 0.012\n",
      "[347,   347] loss: 0.012\n",
      "[348,   348] loss: 0.012\n",
      "[349,   349] loss: 0.012\n",
      "[350,   350] loss: 0.012\n",
      "[351,   351] loss: 0.012\n",
      "[352,   352] loss: 0.012\n",
      "[353,   353] loss: 0.012\n",
      "[354,   354] loss: 0.012\n",
      "[355,   355] loss: 0.012\n",
      "[356,   356] loss: 0.012\n",
      "[357,   357] loss: 0.012\n",
      "[358,   358] loss: 0.012\n",
      "[359,   359] loss: 0.012\n",
      "[360,   360] loss: 0.012\n",
      "[361,   361] loss: 0.012\n",
      "[362,   362] loss: 0.012\n",
      "[363,   363] loss: 0.012\n",
      "[364,   364] loss: 0.012\n",
      "[365,   365] loss: 0.012\n",
      "[366,   366] loss: 0.012\n",
      "[367,   367] loss: 0.012\n",
      "[368,   368] loss: 0.012\n",
      "[369,   369] loss: 0.012\n",
      "[370,   370] loss: 0.012\n",
      "[371,   371] loss: 0.012\n",
      "[372,   372] loss: 0.012\n",
      "[373,   373] loss: 0.012\n",
      "[374,   374] loss: 0.012\n",
      "[375,   375] loss: 0.012\n",
      "[376,   376] loss: 0.012\n",
      "[377,   377] loss: 0.012\n",
      "[378,   378] loss: 0.012\n",
      "[379,   379] loss: 0.012\n",
      "[380,   380] loss: 0.012\n",
      "[381,   381] loss: 0.012\n",
      "[382,   382] loss: 0.012\n",
      "[383,   383] loss: 0.012\n",
      "[384,   384] loss: 0.012\n",
      "[385,   385] loss: 0.012\n",
      "[386,   386] loss: 0.012\n",
      "[387,   387] loss: 0.012\n",
      "[388,   388] loss: 0.012\n",
      "[389,   389] loss: 0.012\n",
      "[390,   390] loss: 0.012\n",
      "[391,   391] loss: 0.012\n",
      "[392,   392] loss: 0.012\n",
      "[393,   393] loss: 0.012\n",
      "[394,   394] loss: 0.012\n",
      "[395,   395] loss: 0.012\n",
      "[396,   396] loss: 0.012\n",
      "[397,   397] loss: 0.012\n",
      "[398,   398] loss: 0.012\n",
      "[399,   399] loss: 0.012\n",
      "[401,   401] loss: 0.025\n",
      "[402,   402] loss: 0.012\n",
      "[403,   403] loss: 0.012\n",
      "[404,   404] loss: 0.012\n",
      "[405,   405] loss: 0.012\n",
      "[406,   406] loss: 0.012\n",
      "[407,   407] loss: 0.012\n",
      "[408,   408] loss: 0.012\n",
      "[409,   409] loss: 0.012\n",
      "[410,   410] loss: 0.012\n",
      "[411,   411] loss: 0.012\n",
      "[412,   412] loss: 0.012\n",
      "[413,   413] loss: 0.012\n",
      "[414,   414] loss: 0.012\n",
      "[415,   415] loss: 0.012\n",
      "[416,   416] loss: 0.012\n",
      "[417,   417] loss: 0.012\n",
      "[418,   418] loss: 0.012\n",
      "[419,   419] loss: 0.012\n",
      "[420,   420] loss: 0.012\n",
      "[421,   421] loss: 0.012\n",
      "[422,   422] loss: 0.012\n",
      "[423,   423] loss: 0.012\n",
      "[424,   424] loss: 0.012\n",
      "[425,   425] loss: 0.012\n",
      "[426,   426] loss: 0.012\n",
      "[427,   427] loss: 0.012\n",
      "[428,   428] loss: 0.012\n",
      "[429,   429] loss: 0.012\n",
      "[430,   430] loss: 0.012\n",
      "[431,   431] loss: 0.012\n",
      "[432,   432] loss: 0.012\n",
      "[433,   433] loss: 0.012\n",
      "[434,   434] loss: 0.012\n",
      "[435,   435] loss: 0.012\n",
      "[436,   436] loss: 0.012\n",
      "[437,   437] loss: 0.012\n",
      "[438,   438] loss: 0.012\n",
      "[439,   439] loss: 0.012\n",
      "[440,   440] loss: 0.012\n",
      "[441,   441] loss: 0.012\n",
      "[442,   442] loss: 0.012\n",
      "[443,   443] loss: 0.012\n",
      "[444,   444] loss: 0.012\n",
      "[445,   445] loss: 0.012\n",
      "[446,   446] loss: 0.012\n",
      "[447,   447] loss: 0.012\n",
      "[448,   448] loss: 0.012\n",
      "[449,   449] loss: 0.012\n",
      "[450,   450] loss: 0.012\n",
      "[451,   451] loss: 0.012\n",
      "[452,   452] loss: 0.012\n",
      "[453,   453] loss: 0.012\n",
      "[454,   454] loss: 0.012\n",
      "[455,   455] loss: 0.012\n",
      "[456,   456] loss: 0.012\n",
      "[457,   457] loss: 0.012\n",
      "[458,   458] loss: 0.012\n",
      "[459,   459] loss: 0.012\n",
      "[460,   460] loss: 0.012\n",
      "[461,   461] loss: 0.012\n",
      "[462,   462] loss: 0.012\n",
      "[463,   463] loss: 0.012\n",
      "[464,   464] loss: 0.012\n",
      "[465,   465] loss: 0.012\n",
      "[466,   466] loss: 0.012\n",
      "[467,   467] loss: 0.012\n",
      "[468,   468] loss: 0.012\n",
      "[469,   469] loss: 0.012\n",
      "[470,   470] loss: 0.012\n",
      "[471,   471] loss: 0.012\n",
      "[472,   472] loss: 0.012\n",
      "[473,   473] loss: 0.012\n",
      "[474,   474] loss: 0.012\n",
      "[475,   475] loss: 0.012\n",
      "[476,   476] loss: 0.012\n",
      "[477,   477] loss: 0.012\n",
      "[478,   478] loss: 0.012\n",
      "[479,   479] loss: 0.012\n",
      "[480,   480] loss: 0.012\n",
      "[481,   481] loss: 0.012\n",
      "[482,   482] loss: 0.012\n",
      "[483,   483] loss: 0.012\n",
      "[484,   484] loss: 0.012\n",
      "[485,   485] loss: 0.012\n",
      "[486,   486] loss: 0.012\n",
      "[487,   487] loss: 0.012\n",
      "[488,   488] loss: 0.012\n",
      "[489,   489] loss: 0.012\n",
      "[490,   490] loss: 0.012\n",
      "[491,   491] loss: 0.012\n",
      "[492,   492] loss: 0.012\n",
      "[493,   493] loss: 0.012\n",
      "[494,   494] loss: 0.012\n",
      "[495,   495] loss: 0.012\n",
      "[496,   496] loss: 0.012\n",
      "[497,   497] loss: 0.012\n",
      "[498,   498] loss: 0.012\n",
      "[499,   499] loss: 0.012\n",
      "Finished Training\n"
     ]
    }
   ],
   "source": [
    "Train(net, 500, torch.Tensor(X_train), torch.Tensor(y_train),criterion,optimizer)"
   ]
  },
  {
   "cell_type": "code",
   "execution_count": 240,
   "metadata": {},
   "outputs": [
    {
     "name": "stdout",
     "output_type": "stream",
     "text": [
      "0.575\n"
     ]
    }
   ],
   "source": [
    "correct = 0\n",
    "with torch.no_grad():\n",
    "    outputs = net(torch.Tensor(X_valid))\n",
    "    _, preds = torch.max(outputs, 1)\n",
    "\n",
    "print((preds.numpy() == y_valid).sum() / y_valid.shape[0])\n",
    "\n"
   ]
  },
  {
   "cell_type": "code",
   "execution_count": 241,
   "metadata": {},
   "outputs": [
    {
     "name": "stderr",
     "output_type": "stream",
     "text": [
      "Some weights of the model checkpoint at distilbert-base-uncased were not used when initializing DistilBertForSequenceClassification: ['vocab_layer_norm.bias', 'vocab_projector.bias', 'vocab_layer_norm.weight', 'vocab_projector.weight', 'vocab_transform.bias', 'vocab_transform.weight']\n",
      "- This IS expected if you are initializing DistilBertForSequenceClassification from the checkpoint of a model trained on another task or with another architecture (e.g. initializing a BertForSequenceClassification model from a BertForPreTraining model).\n",
      "- This IS NOT expected if you are initializing DistilBertForSequenceClassification from the checkpoint of a model that you expect to be exactly identical (initializing a BertForSequenceClassification model from a BertForSequenceClassification model).\n",
      "Some weights of DistilBertForSequenceClassification were not initialized from the model checkpoint at distilbert-base-uncased and are newly initialized: ['pre_classifier.bias', 'pre_classifier.weight', 'classifier.bias', 'classifier.weight']\n",
      "You should probably TRAIN this model on a down-stream task to be able to use it for predictions and inference.\n"
     ]
    }
   ],
   "source": [
    "from transformers import AutoModelForSequenceClassification\n",
    "\n",
    "\n",
    "# same as before\n",
    "model_ckpt = \"distilbert-base-uncased\"\n",
    "device = torch.device(\"cuda\" if torch.cuda.is_available() else \"cpu\")\n",
    "num_labels = 6\n",
    "\n",
    "\n",
    "model = (AutoModelForSequenceClassification \\\n",
    "    .from_pretrained(model_ckpt, num_labels = num_labels) \\\n",
    "        .to(device))"
   ]
  },
  {
   "cell_type": "code",
   "execution_count": 249,
   "metadata": {},
   "outputs": [],
   "source": [
    "# establish performance metrics\n",
    "from sklearn.metrics import accuracy_score, f1_score\n",
    "\n",
    "def compute_metrics(pred):\n",
    "    labels = pred.label_ids\n",
    "    preds = pred.predictions.argmax(-1)\n",
    "    f1 = f1_score(labels, preds, average = 'weighted')\n",
    "    acc = accuracy_score(labels, preds)\n",
    "    return {'accuracy': acc, 'f1': f1}\n",
    "\n",
    "\n"
   ]
  },
  {
   "cell_type": "code",
   "execution_count": 247,
   "metadata": {},
   "outputs": [],
   "source": [
    "from transformers import Trainer, TrainingArguments\n",
    "\n",
    "batch_size = 64\n",
    "logging_steps = len(emotions_encoded[\"train\"]) // batch_size\n",
    "model_name = f\"{model_ckpt}-finetuned-emotion\"\n",
    "training_args = TrainingArguments(\n",
    "    output_dir = model_name,\n",
    "    num_train_epochs = 2,\n",
    "    learning_rate = 2e-5,\n",
    "    per_device_train_batch_size = batch_size,\n",
    "    per_device_eval_batch_size = batch_size,\n",
    "    weight_decay = 0.01,\n",
    "    evaluation_strategy = \"epoch\",\n",
    "    disable_tqdm = False,\n",
    "    logging_steps = logging_steps,\n",
    "    push_to_hub = False,\n",
    "    log_level = \"error\"\n",
    ")\n",
    "\n"
   ]
  },
  {
   "cell_type": "code",
   "execution_count": 251,
   "metadata": {},
   "outputs": [
    {
     "name": "stderr",
     "output_type": "stream",
     "text": [
      "c:\\Users\\61417\\anaconda3\\lib\\site-packages\\transformers\\optimization.py:306: FutureWarning: This implementation of AdamW is deprecated and will be removed in a future version. Use the PyTorch implementation torch.optim.AdamW instead, or set `no_deprecation_warning=True` to disable this warning\n",
      "  warnings.warn(\n",
      " 50%|█████     | 250/500 [57:42<1:06:38, 16.00s/it]"
     ]
    },
    {
     "name": "stdout",
     "output_type": "stream",
     "text": [
      "{'loss': 0.8279, 'learning_rate': 1e-05, 'epoch': 1.0}\n"
     ]
    },
    {
     "name": "stderr",
     "output_type": "stream",
     "text": [
      "                                                   \n",
      " 50%|█████     | 250/500 [59:33<1:06:38, 16.00s/it]"
     ]
    },
    {
     "name": "stdout",
     "output_type": "stream",
     "text": [
      "{'eval_loss': 0.32436901330947876, 'eval_accuracy': 0.9035, 'eval_f1': 0.9011166763910853, 'eval_runtime': 111.0236, 'eval_samples_per_second': 18.014, 'eval_steps_per_second': 0.288, 'epoch': 1.0}\n"
     ]
    },
    {
     "name": "stderr",
     "output_type": "stream",
     "text": [
      "100%|██████████| 500/500 [1:53:36<00:00, 11.47s/it]  "
     ]
    },
    {
     "name": "stdout",
     "output_type": "stream",
     "text": [
      "{'loss': 0.2562, 'learning_rate': 0.0, 'epoch': 2.0}\n"
     ]
    },
    {
     "name": "stderr",
     "output_type": "stream",
     "text": [
      "                                                   \n",
      "100%|██████████| 500/500 [1:55:16<00:00, 13.83s/it]"
     ]
    },
    {
     "name": "stdout",
     "output_type": "stream",
     "text": [
      "{'eval_loss': 0.22504207491874695, 'eval_accuracy': 0.9215, 'eval_f1': 0.9213416641463533, 'eval_runtime': 97.8434, 'eval_samples_per_second': 20.441, 'eval_steps_per_second': 0.327, 'epoch': 2.0}\n",
      "{'train_runtime': 6916.0687, 'train_samples_per_second': 4.627, 'train_steps_per_second': 0.072, 'train_loss': 0.5420692138671875, 'epoch': 2.0}\n"
     ]
    },
    {
     "name": "stderr",
     "output_type": "stream",
     "text": [
      "\n"
     ]
    },
    {
     "data": {
      "text/plain": [
       "TrainOutput(global_step=500, training_loss=0.5420692138671875, metrics={'train_runtime': 6916.0687, 'train_samples_per_second': 4.627, 'train_steps_per_second': 0.072, 'train_loss': 0.5420692138671875, 'epoch': 2.0})"
      ]
     },
     "execution_count": 251,
     "metadata": {},
     "output_type": "execute_result"
    }
   ],
   "source": [
    "# run the model\n",
    "trainer = Trainer(\n",
    "    model = model,\n",
    "    args = training_args,\n",
    "    compute_metrics = compute_metrics,\n",
    "    train_dataset = emotions_encoded[\"train\"],\n",
    "    eval_dataset = emotions_encoded[\"validation\"],\n",
    "    tokenizer = tokenizer\n",
    ")\n",
    "\n",
    "trainer.train()"
   ]
  },
  {
   "cell_type": "code",
   "execution_count": 252,
   "metadata": {},
   "outputs": [
    {
     "name": "stderr",
     "output_type": "stream",
     "text": [
      "100%|██████████| 32/32 [02:31<00:00,  4.73s/it]\n"
     ]
    },
    {
     "ename": "ValueError",
     "evalue": "The number of FixedLocator locations (6), usually from a call to set_ticks, does not match the number of ticklabels (20).",
     "output_type": "error",
     "traceback": [
      "\u001b[1;31m---------------------------------------------------------------------------\u001b[0m",
      "\u001b[1;31mValueError\u001b[0m                                Traceback (most recent call last)",
      "\u001b[1;32m~\\AppData\\Local\\Temp/ipykernel_66388/2617675203.py\u001b[0m in \u001b[0;36m<module>\u001b[1;34m\u001b[0m\n\u001b[0;32m      2\u001b[0m \u001b[0my_preds\u001b[0m \u001b[1;33m=\u001b[0m \u001b[0mnp\u001b[0m\u001b[1;33m.\u001b[0m\u001b[0margmax\u001b[0m\u001b[1;33m(\u001b[0m\u001b[0mpreds_output\u001b[0m\u001b[1;33m.\u001b[0m\u001b[0mpredictions\u001b[0m\u001b[1;33m,\u001b[0m \u001b[0maxis\u001b[0m \u001b[1;33m=\u001b[0m \u001b[1;36m1\u001b[0m\u001b[1;33m)\u001b[0m\u001b[1;33m\u001b[0m\u001b[1;33m\u001b[0m\u001b[0m\n\u001b[0;32m      3\u001b[0m \u001b[1;33m\u001b[0m\u001b[0m\n\u001b[1;32m----> 4\u001b[1;33m \u001b[0mplot_confusion_matrix\u001b[0m\u001b[1;33m(\u001b[0m\u001b[0my_preds\u001b[0m\u001b[1;33m,\u001b[0m \u001b[0my_valid\u001b[0m\u001b[1;33m,\u001b[0m \u001b[0mlabels\u001b[0m\u001b[1;33m)\u001b[0m\u001b[1;33m\u001b[0m\u001b[1;33m\u001b[0m\u001b[0m\n\u001b[0m",
      "\u001b[1;32m~\\AppData\\Local\\Temp/ipykernel_66388/1142001402.py\u001b[0m in \u001b[0;36mplot_confusion_matrix\u001b[1;34m(y_preds, y_true, labels)\u001b[0m\n\u001b[0;32m      5\u001b[0m     \u001b[0mfig\u001b[0m\u001b[1;33m,\u001b[0m \u001b[0max\u001b[0m \u001b[1;33m=\u001b[0m \u001b[0mplt\u001b[0m\u001b[1;33m.\u001b[0m\u001b[0msubplots\u001b[0m\u001b[1;33m(\u001b[0m\u001b[0mfigsize\u001b[0m \u001b[1;33m=\u001b[0m \u001b[1;33m(\u001b[0m\u001b[1;36m6\u001b[0m\u001b[1;33m,\u001b[0m \u001b[1;36m6\u001b[0m\u001b[1;33m)\u001b[0m\u001b[1;33m)\u001b[0m\u001b[1;33m\u001b[0m\u001b[1;33m\u001b[0m\u001b[0m\n\u001b[0;32m      6\u001b[0m     \u001b[0mdisp\u001b[0m \u001b[1;33m=\u001b[0m \u001b[0mConfusionMatrixDisplay\u001b[0m\u001b[1;33m(\u001b[0m\u001b[0mconfusion_matrix\u001b[0m \u001b[1;33m=\u001b[0m \u001b[0mcm\u001b[0m\u001b[1;33m,\u001b[0m \u001b[0mdisplay_labels\u001b[0m \u001b[1;33m=\u001b[0m \u001b[0mlabels\u001b[0m\u001b[1;33m)\u001b[0m\u001b[1;33m\u001b[0m\u001b[1;33m\u001b[0m\u001b[0m\n\u001b[1;32m----> 7\u001b[1;33m     \u001b[0mdisp\u001b[0m\u001b[1;33m.\u001b[0m\u001b[0mplot\u001b[0m\u001b[1;33m(\u001b[0m\u001b[0mcmap\u001b[0m \u001b[1;33m=\u001b[0m \u001b[1;34m'Blues'\u001b[0m\u001b[1;33m,\u001b[0m \u001b[0mvalues_format\u001b[0m \u001b[1;33m=\u001b[0m \u001b[1;34m\".2f\"\u001b[0m\u001b[1;33m,\u001b[0m \u001b[0max\u001b[0m \u001b[1;33m=\u001b[0m \u001b[0max\u001b[0m\u001b[1;33m,\u001b[0m \u001b[0mcolorbar\u001b[0m \u001b[1;33m=\u001b[0m \u001b[1;32mFalse\u001b[0m\u001b[1;33m)\u001b[0m\u001b[1;33m\u001b[0m\u001b[1;33m\u001b[0m\u001b[0m\n\u001b[0m\u001b[0;32m      8\u001b[0m     \u001b[0mplt\u001b[0m\u001b[1;33m.\u001b[0m\u001b[0mtitle\u001b[0m\u001b[1;33m(\u001b[0m\u001b[1;34m\"Normalised confusion matrix\"\u001b[0m\u001b[1;33m)\u001b[0m\u001b[1;33m\u001b[0m\u001b[1;33m\u001b[0m\u001b[0m\n\u001b[0;32m      9\u001b[0m     \u001b[0mplt\u001b[0m\u001b[1;33m.\u001b[0m\u001b[0mshow\u001b[0m\u001b[1;33m(\u001b[0m\u001b[1;33m)\u001b[0m\u001b[1;33m\u001b[0m\u001b[1;33m\u001b[0m\u001b[0m\n",
      "\u001b[1;32mc:\\Users\\61417\\anaconda3\\lib\\site-packages\\sklearn\\utils\\validation.py\u001b[0m in \u001b[0;36minner_f\u001b[1;34m(*args, **kwargs)\u001b[0m\n\u001b[0;32m     61\u001b[0m             \u001b[0mextra_args\u001b[0m \u001b[1;33m=\u001b[0m \u001b[0mlen\u001b[0m\u001b[1;33m(\u001b[0m\u001b[0margs\u001b[0m\u001b[1;33m)\u001b[0m \u001b[1;33m-\u001b[0m \u001b[0mlen\u001b[0m\u001b[1;33m(\u001b[0m\u001b[0mall_args\u001b[0m\u001b[1;33m)\u001b[0m\u001b[1;33m\u001b[0m\u001b[1;33m\u001b[0m\u001b[0m\n\u001b[0;32m     62\u001b[0m             \u001b[1;32mif\u001b[0m \u001b[0mextra_args\u001b[0m \u001b[1;33m<=\u001b[0m \u001b[1;36m0\u001b[0m\u001b[1;33m:\u001b[0m\u001b[1;33m\u001b[0m\u001b[1;33m\u001b[0m\u001b[0m\n\u001b[1;32m---> 63\u001b[1;33m                 \u001b[1;32mreturn\u001b[0m \u001b[0mf\u001b[0m\u001b[1;33m(\u001b[0m\u001b[1;33m*\u001b[0m\u001b[0margs\u001b[0m\u001b[1;33m,\u001b[0m \u001b[1;33m**\u001b[0m\u001b[0mkwargs\u001b[0m\u001b[1;33m)\u001b[0m\u001b[1;33m\u001b[0m\u001b[1;33m\u001b[0m\u001b[0m\n\u001b[0m\u001b[0;32m     64\u001b[0m \u001b[1;33m\u001b[0m\u001b[0m\n\u001b[0;32m     65\u001b[0m             \u001b[1;31m# extra_args > 0\u001b[0m\u001b[1;33m\u001b[0m\u001b[1;33m\u001b[0m\u001b[0m\n",
      "\u001b[1;32mc:\\Users\\61417\\anaconda3\\lib\\site-packages\\sklearn\\metrics\\_plot\\confusion_matrix.py\u001b[0m in \u001b[0;36mplot\u001b[1;34m(self, include_values, cmap, xticks_rotation, values_format, ax, colorbar)\u001b[0m\n\u001b[0;32m    151\u001b[0m         \u001b[1;32mif\u001b[0m \u001b[0mcolorbar\u001b[0m\u001b[1;33m:\u001b[0m\u001b[1;33m\u001b[0m\u001b[1;33m\u001b[0m\u001b[0m\n\u001b[0;32m    152\u001b[0m             \u001b[0mfig\u001b[0m\u001b[1;33m.\u001b[0m\u001b[0mcolorbar\u001b[0m\u001b[1;33m(\u001b[0m\u001b[0mself\u001b[0m\u001b[1;33m.\u001b[0m\u001b[0mim_\u001b[0m\u001b[1;33m,\u001b[0m \u001b[0max\u001b[0m\u001b[1;33m=\u001b[0m\u001b[0max\u001b[0m\u001b[1;33m)\u001b[0m\u001b[1;33m\u001b[0m\u001b[1;33m\u001b[0m\u001b[0m\n\u001b[1;32m--> 153\u001b[1;33m         ax.set(xticks=np.arange(n_classes),\n\u001b[0m\u001b[0;32m    154\u001b[0m                \u001b[0myticks\u001b[0m\u001b[1;33m=\u001b[0m\u001b[0mnp\u001b[0m\u001b[1;33m.\u001b[0m\u001b[0marange\u001b[0m\u001b[1;33m(\u001b[0m\u001b[0mn_classes\u001b[0m\u001b[1;33m)\u001b[0m\u001b[1;33m,\u001b[0m\u001b[1;33m\u001b[0m\u001b[1;33m\u001b[0m\u001b[0m\n\u001b[0;32m    155\u001b[0m                \u001b[0mxticklabels\u001b[0m\u001b[1;33m=\u001b[0m\u001b[0mdisplay_labels\u001b[0m\u001b[1;33m,\u001b[0m\u001b[1;33m\u001b[0m\u001b[1;33m\u001b[0m\u001b[0m\n",
      "\u001b[1;32mc:\\Users\\61417\\anaconda3\\lib\\site-packages\\matplotlib\\artist.py\u001b[0m in \u001b[0;36mset\u001b[1;34m(self, **kwargs)\u001b[0m\n\u001b[0;32m   1177\u001b[0m         \u001b[1;32mif\u001b[0m \u001b[0mmove_color_to_start\u001b[0m\u001b[1;33m:\u001b[0m\u001b[1;33m\u001b[0m\u001b[1;33m\u001b[0m\u001b[0m\n\u001b[0;32m   1178\u001b[0m             \u001b[0mkwargs\u001b[0m \u001b[1;33m=\u001b[0m \u001b[1;33m{\u001b[0m\u001b[1;34m\"color\"\u001b[0m\u001b[1;33m:\u001b[0m \u001b[0mkwargs\u001b[0m\u001b[1;33m.\u001b[0m\u001b[0mpop\u001b[0m\u001b[1;33m(\u001b[0m\u001b[1;34m\"color\"\u001b[0m\u001b[1;33m)\u001b[0m\u001b[1;33m,\u001b[0m \u001b[1;33m**\u001b[0m\u001b[0mkwargs\u001b[0m\u001b[1;33m}\u001b[0m\u001b[1;33m\u001b[0m\u001b[1;33m\u001b[0m\u001b[0m\n\u001b[1;32m-> 1179\u001b[1;33m         \u001b[1;32mreturn\u001b[0m \u001b[0mself\u001b[0m\u001b[1;33m.\u001b[0m\u001b[0mupdate\u001b[0m\u001b[1;33m(\u001b[0m\u001b[0mkwargs\u001b[0m\u001b[1;33m)\u001b[0m\u001b[1;33m\u001b[0m\u001b[1;33m\u001b[0m\u001b[0m\n\u001b[0m\u001b[0;32m   1180\u001b[0m \u001b[1;33m\u001b[0m\u001b[0m\n\u001b[0;32m   1181\u001b[0m     \u001b[1;32mdef\u001b[0m \u001b[0mfindobj\u001b[0m\u001b[1;33m(\u001b[0m\u001b[0mself\u001b[0m\u001b[1;33m,\u001b[0m \u001b[0mmatch\u001b[0m\u001b[1;33m=\u001b[0m\u001b[1;32mNone\u001b[0m\u001b[1;33m,\u001b[0m \u001b[0minclude_self\u001b[0m\u001b[1;33m=\u001b[0m\u001b[1;32mTrue\u001b[0m\u001b[1;33m)\u001b[0m\u001b[1;33m:\u001b[0m\u001b[1;33m\u001b[0m\u001b[1;33m\u001b[0m\u001b[0m\n",
      "\u001b[1;32mc:\\Users\\61417\\anaconda3\\lib\\site-packages\\matplotlib\\artist.py\u001b[0m in \u001b[0;36mupdate\u001b[1;34m(self, props)\u001b[0m\n\u001b[0;32m   1062\u001b[0m                         raise AttributeError(f\"{type(self).__name__!r} object \"\n\u001b[0;32m   1063\u001b[0m                                              f\"has no property {k!r}\")\n\u001b[1;32m-> 1064\u001b[1;33m                     \u001b[0mret\u001b[0m\u001b[1;33m.\u001b[0m\u001b[0mappend\u001b[0m\u001b[1;33m(\u001b[0m\u001b[0mfunc\u001b[0m\u001b[1;33m(\u001b[0m\u001b[0mv\u001b[0m\u001b[1;33m)\u001b[0m\u001b[1;33m)\u001b[0m\u001b[1;33m\u001b[0m\u001b[1;33m\u001b[0m\u001b[0m\n\u001b[0m\u001b[0;32m   1065\u001b[0m         \u001b[1;32mif\u001b[0m \u001b[0mret\u001b[0m\u001b[1;33m:\u001b[0m\u001b[1;33m\u001b[0m\u001b[1;33m\u001b[0m\u001b[0m\n\u001b[0;32m   1066\u001b[0m             \u001b[0mself\u001b[0m\u001b[1;33m.\u001b[0m\u001b[0mpchanged\u001b[0m\u001b[1;33m(\u001b[0m\u001b[1;33m)\u001b[0m\u001b[1;33m\u001b[0m\u001b[1;33m\u001b[0m\u001b[0m\n",
      "\u001b[1;32mc:\\Users\\61417\\anaconda3\\lib\\site-packages\\matplotlib\\axes\\_base.py\u001b[0m in \u001b[0;36mwrapper\u001b[1;34m(self, *args, **kwargs)\u001b[0m\n\u001b[0;32m     71\u001b[0m \u001b[1;33m\u001b[0m\u001b[0m\n\u001b[0;32m     72\u001b[0m         \u001b[1;32mdef\u001b[0m \u001b[0mwrapper\u001b[0m\u001b[1;33m(\u001b[0m\u001b[0mself\u001b[0m\u001b[1;33m,\u001b[0m \u001b[1;33m*\u001b[0m\u001b[0margs\u001b[0m\u001b[1;33m,\u001b[0m \u001b[1;33m**\u001b[0m\u001b[0mkwargs\u001b[0m\u001b[1;33m)\u001b[0m\u001b[1;33m:\u001b[0m\u001b[1;33m\u001b[0m\u001b[1;33m\u001b[0m\u001b[0m\n\u001b[1;32m---> 73\u001b[1;33m             \u001b[1;32mreturn\u001b[0m \u001b[0mget_method\u001b[0m\u001b[1;33m(\u001b[0m\u001b[0mself\u001b[0m\u001b[1;33m)\u001b[0m\u001b[1;33m(\u001b[0m\u001b[1;33m*\u001b[0m\u001b[0margs\u001b[0m\u001b[1;33m,\u001b[0m \u001b[1;33m**\u001b[0m\u001b[0mkwargs\u001b[0m\u001b[1;33m)\u001b[0m\u001b[1;33m\u001b[0m\u001b[1;33m\u001b[0m\u001b[0m\n\u001b[0m\u001b[0;32m     74\u001b[0m \u001b[1;33m\u001b[0m\u001b[0m\n\u001b[0;32m     75\u001b[0m         \u001b[0mwrapper\u001b[0m\u001b[1;33m.\u001b[0m\u001b[0m__module__\u001b[0m \u001b[1;33m=\u001b[0m \u001b[0mowner\u001b[0m\u001b[1;33m.\u001b[0m\u001b[0m__module__\u001b[0m\u001b[1;33m\u001b[0m\u001b[1;33m\u001b[0m\u001b[0m\n",
      "\u001b[1;32mc:\\Users\\61417\\anaconda3\\lib\\site-packages\\matplotlib\\_api\\deprecation.py\u001b[0m in \u001b[0;36mwrapper\u001b[1;34m(*args, **kwargs)\u001b[0m\n\u001b[0;32m    469\u001b[0m                 \u001b[1;34m\"parameter will become keyword-only %(removal)s.\"\u001b[0m\u001b[1;33m,\u001b[0m\u001b[1;33m\u001b[0m\u001b[1;33m\u001b[0m\u001b[0m\n\u001b[0;32m    470\u001b[0m                 name=name, obj_type=f\"parameter of {func.__name__}()\")\n\u001b[1;32m--> 471\u001b[1;33m         \u001b[1;32mreturn\u001b[0m \u001b[0mfunc\u001b[0m\u001b[1;33m(\u001b[0m\u001b[1;33m*\u001b[0m\u001b[0margs\u001b[0m\u001b[1;33m,\u001b[0m \u001b[1;33m**\u001b[0m\u001b[0mkwargs\u001b[0m\u001b[1;33m)\u001b[0m\u001b[1;33m\u001b[0m\u001b[1;33m\u001b[0m\u001b[0m\n\u001b[0m\u001b[0;32m    472\u001b[0m \u001b[1;33m\u001b[0m\u001b[0m\n\u001b[0;32m    473\u001b[0m     \u001b[1;32mreturn\u001b[0m \u001b[0mwrapper\u001b[0m\u001b[1;33m\u001b[0m\u001b[1;33m\u001b[0m\u001b[0m\n",
      "\u001b[1;32mc:\\Users\\61417\\anaconda3\\lib\\site-packages\\matplotlib\\axis.py\u001b[0m in \u001b[0;36m_set_ticklabels\u001b[1;34m(self, labels, fontdict, minor, **kwargs)\u001b[0m\n\u001b[0;32m   1793\u001b[0m         \u001b[1;32mif\u001b[0m \u001b[0mfontdict\u001b[0m \u001b[1;32mis\u001b[0m \u001b[1;32mnot\u001b[0m \u001b[1;32mNone\u001b[0m\u001b[1;33m:\u001b[0m\u001b[1;33m\u001b[0m\u001b[1;33m\u001b[0m\u001b[0m\n\u001b[0;32m   1794\u001b[0m             \u001b[0mkwargs\u001b[0m\u001b[1;33m.\u001b[0m\u001b[0mupdate\u001b[0m\u001b[1;33m(\u001b[0m\u001b[0mfontdict\u001b[0m\u001b[1;33m)\u001b[0m\u001b[1;33m\u001b[0m\u001b[1;33m\u001b[0m\u001b[0m\n\u001b[1;32m-> 1795\u001b[1;33m         \u001b[1;32mreturn\u001b[0m \u001b[0mself\u001b[0m\u001b[1;33m.\u001b[0m\u001b[0mset_ticklabels\u001b[0m\u001b[1;33m(\u001b[0m\u001b[0mlabels\u001b[0m\u001b[1;33m,\u001b[0m \u001b[0mminor\u001b[0m\u001b[1;33m=\u001b[0m\u001b[0mminor\u001b[0m\u001b[1;33m,\u001b[0m \u001b[1;33m**\u001b[0m\u001b[0mkwargs\u001b[0m\u001b[1;33m)\u001b[0m\u001b[1;33m\u001b[0m\u001b[1;33m\u001b[0m\u001b[0m\n\u001b[0m\u001b[0;32m   1796\u001b[0m \u001b[1;33m\u001b[0m\u001b[0m\n\u001b[0;32m   1797\u001b[0m     \u001b[1;32mdef\u001b[0m \u001b[0mset_ticks\u001b[0m\u001b[1;33m(\u001b[0m\u001b[0mself\u001b[0m\u001b[1;33m,\u001b[0m \u001b[0mticks\u001b[0m\u001b[1;33m,\u001b[0m \u001b[1;33m*\u001b[0m\u001b[1;33m,\u001b[0m \u001b[0mminor\u001b[0m\u001b[1;33m=\u001b[0m\u001b[1;32mFalse\u001b[0m\u001b[1;33m)\u001b[0m\u001b[1;33m:\u001b[0m\u001b[1;33m\u001b[0m\u001b[1;33m\u001b[0m\u001b[0m\n",
      "\u001b[1;32mc:\\Users\\61417\\anaconda3\\lib\\site-packages\\matplotlib\\axis.py\u001b[0m in \u001b[0;36mset_ticklabels\u001b[1;34m(self, ticklabels, minor, **kwargs)\u001b[0m\n\u001b[0;32m   1714\u001b[0m             \u001b[1;31m# remove all tick labels, so only error for > 0 ticklabels\u001b[0m\u001b[1;33m\u001b[0m\u001b[1;33m\u001b[0m\u001b[0m\n\u001b[0;32m   1715\u001b[0m             \u001b[1;32mif\u001b[0m \u001b[0mlen\u001b[0m\u001b[1;33m(\u001b[0m\u001b[0mlocator\u001b[0m\u001b[1;33m.\u001b[0m\u001b[0mlocs\u001b[0m\u001b[1;33m)\u001b[0m \u001b[1;33m!=\u001b[0m \u001b[0mlen\u001b[0m\u001b[1;33m(\u001b[0m\u001b[0mticklabels\u001b[0m\u001b[1;33m)\u001b[0m \u001b[1;32mand\u001b[0m \u001b[0mlen\u001b[0m\u001b[1;33m(\u001b[0m\u001b[0mticklabels\u001b[0m\u001b[1;33m)\u001b[0m \u001b[1;33m!=\u001b[0m \u001b[1;36m0\u001b[0m\u001b[1;33m:\u001b[0m\u001b[1;33m\u001b[0m\u001b[1;33m\u001b[0m\u001b[0m\n\u001b[1;32m-> 1716\u001b[1;33m                 raise ValueError(\n\u001b[0m\u001b[0;32m   1717\u001b[0m                     \u001b[1;34m\"The number of FixedLocator locations\"\u001b[0m\u001b[1;33m\u001b[0m\u001b[1;33m\u001b[0m\u001b[0m\n\u001b[0;32m   1718\u001b[0m                     \u001b[1;34mf\" ({len(locator.locs)}), usually from a call to\"\u001b[0m\u001b[1;33m\u001b[0m\u001b[1;33m\u001b[0m\u001b[0m\n",
      "\u001b[1;31mValueError\u001b[0m: The number of FixedLocator locations (6), usually from a call to set_ticks, does not match the number of ticklabels (20)."
     ]
    },
    {
     "data": {
      "image/png": "[encoded data removed]",
      "text/plain": [
       "<Figure size 432x432 with 1 Axes>"
      ]
     },
     "metadata": {
      "needs_background": "light"
     },
     "output_type": "display_data"
    }
   ],
   "source": [
    "preds_output = trainer.predict(emotions_encoded[\"validation\"])\n",
    "y_preds = np.argmax(preds_output.predictions, axis = 1)\n",
    "\n",
    "plot_confusion_matrix(y_preds, y_valid, labels)"
   ]
  }
 ],
 "metadata": {
  "kernelspec": {
   "display_name": "Python 3.9.7",
   "language": "python",
   "name": "python3"
  },
  "language_info": {
   "codemirror_mode": {
    "name": "ipython",
    "version": 3
   },
   "file_extension": ".py",
   "mimetype": "text/x-python",
   "name": "python",
   "nbconvert_exporter": "python",
   "pygments_lexer": "ipython3",
   "version": "3.9.7"
  },
  "orig_nbformat": 4,
  "vscode": {
   "interpreter": {
    "hash": "35643e8013a8986bd707b2979c5c936bcf5bc6379996007802b723641253d1ab"
   }
  }
 },
 "nbformat": 4,
 "nbformat_minor": 2
}
